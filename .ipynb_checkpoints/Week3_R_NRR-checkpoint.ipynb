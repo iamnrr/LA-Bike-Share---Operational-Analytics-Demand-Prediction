{
 "cells": [
  {
   "cell_type": "markdown",
   "metadata": {},
   "source": [
    "Author : RaghuRaman Nanduri\n",
    "\n",
    "DSC 630\n",
    "\n",
    "Week 3"
   ]
  },
  {
   "cell_type": "code",
   "execution_count": 29,
   "metadata": {},
   "outputs": [],
   "source": [
    "# Setting directory and importing data\n",
    "setwd('C:\\\\Users\\\\nrrvlkp\\\\Documents\\\\M\\\\630\\\\Projects\\\\Predictive_analytics\\\\data')"
   ]
  },
  {
   "cell_type": "code",
   "execution_count": 30,
   "metadata": {},
   "outputs": [],
   "source": [
    "# importing required libraries\n",
    "library(ggplot2)\n",
    "library(Hmisc)\n",
    "library(caTools)"
   ]
  },
  {
   "cell_type": "code",
   "execution_count": 31,
   "metadata": {},
   "outputs": [
    {
     "data": {
      "text/html": [
       "<table>\n",
       "<thead><tr><th scope=col>month</th><th scope=col>day</th><th scope=col>attend</th><th scope=col>day_of_week</th><th scope=col>opponent</th><th scope=col>temp</th><th scope=col>skies</th><th scope=col>day_night</th><th scope=col>cap</th><th scope=col>shirt</th><th scope=col>fireworks</th><th scope=col>bobblehead</th></tr></thead>\n",
       "<tbody>\n",
       "\t<tr><td>APR      </td><td>10       </td><td>56000    </td><td>Tuesday  </td><td>Pirates  </td><td>67       </td><td>Clear    </td><td>Day      </td><td>NO       </td><td>NO       </td><td>NO       </td><td>NO       </td></tr>\n",
       "\t<tr><td>APR      </td><td>11       </td><td>29729    </td><td>Wednesday</td><td>Pirates  </td><td>58       </td><td>Cloudy   </td><td>Night    </td><td>NO       </td><td>NO       </td><td>NO       </td><td>NO       </td></tr>\n",
       "\t<tr><td>APR      </td><td>12       </td><td>28328    </td><td>Thursday </td><td>Pirates  </td><td>57       </td><td>Cloudy   </td><td>Night    </td><td>NO       </td><td>NO       </td><td>NO       </td><td>NO       </td></tr>\n",
       "\t<tr><td>APR      </td><td>13       </td><td>31601    </td><td>Friday   </td><td>Padres   </td><td>54       </td><td>Cloudy   </td><td>Night    </td><td>NO       </td><td>NO       </td><td>YES      </td><td>NO       </td></tr>\n",
       "\t<tr><td>APR      </td><td>14       </td><td>46549    </td><td>Saturday </td><td>Padres   </td><td>57       </td><td>Cloudy   </td><td>Night    </td><td>NO       </td><td>NO       </td><td>NO       </td><td>NO       </td></tr>\n",
       "\t<tr><td>APR      </td><td>15       </td><td>38359    </td><td>Sunday   </td><td>Padres   </td><td>65       </td><td>Clear    </td><td>Day      </td><td>NO       </td><td>NO       </td><td>NO       </td><td>NO       </td></tr>\n",
       "</tbody>\n",
       "</table>\n"
      ],
      "text/latex": [
       "\\begin{tabular}{r|llllllllllll}\n",
       " month & day & attend & day\\_of\\_week & opponent & temp & skies & day\\_night & cap & shirt & fireworks & bobblehead\\\\\n",
       "\\hline\n",
       "\t APR       & 10        & 56000     & Tuesday   & Pirates   & 67        & Clear     & Day       & NO        & NO        & NO        & NO       \\\\\n",
       "\t APR       & 11        & 29729     & Wednesday & Pirates   & 58        & Cloudy    & Night     & NO        & NO        & NO        & NO       \\\\\n",
       "\t APR       & 12        & 28328     & Thursday  & Pirates   & 57        & Cloudy    & Night     & NO        & NO        & NO        & NO       \\\\\n",
       "\t APR       & 13        & 31601     & Friday    & Padres    & 54        & Cloudy    & Night     & NO        & NO        & YES       & NO       \\\\\n",
       "\t APR       & 14        & 46549     & Saturday  & Padres    & 57        & Cloudy    & Night     & NO        & NO        & NO        & NO       \\\\\n",
       "\t APR       & 15        & 38359     & Sunday    & Padres    & 65        & Clear     & Day       & NO        & NO        & NO        & NO       \\\\\n",
       "\\end{tabular}\n"
      ],
      "text/markdown": [
       "\n",
       "| month | day | attend | day_of_week | opponent | temp | skies | day_night | cap | shirt | fireworks | bobblehead |\n",
       "|---|---|---|---|---|---|---|---|---|---|---|---|\n",
       "| APR       | 10        | 56000     | Tuesday   | Pirates   | 67        | Clear     | Day       | NO        | NO        | NO        | NO        |\n",
       "| APR       | 11        | 29729     | Wednesday | Pirates   | 58        | Cloudy    | Night     | NO        | NO        | NO        | NO        |\n",
       "| APR       | 12        | 28328     | Thursday  | Pirates   | 57        | Cloudy    | Night     | NO        | NO        | NO        | NO        |\n",
       "| APR       | 13        | 31601     | Friday    | Padres    | 54        | Cloudy    | Night     | NO        | NO        | YES       | NO        |\n",
       "| APR       | 14        | 46549     | Saturday  | Padres    | 57        | Cloudy    | Night     | NO        | NO        | NO        | NO        |\n",
       "| APR       | 15        | 38359     | Sunday    | Padres    | 65        | Clear     | Day       | NO        | NO        | NO        | NO        |\n",
       "\n"
      ],
      "text/plain": [
       "  month day attend day_of_week opponent temp skies  day_night cap shirt\n",
       "1 APR   10  56000  Tuesday     Pirates  67   Clear  Day       NO  NO   \n",
       "2 APR   11  29729  Wednesday   Pirates  58   Cloudy Night     NO  NO   \n",
       "3 APR   12  28328  Thursday    Pirates  57   Cloudy Night     NO  NO   \n",
       "4 APR   13  31601  Friday      Padres   54   Cloudy Night     NO  NO   \n",
       "5 APR   14  46549  Saturday    Padres   57   Cloudy Night     NO  NO   \n",
       "6 APR   15  38359  Sunday      Padres   65   Clear  Day       NO  NO   \n",
       "  fireworks bobblehead\n",
       "1 NO        NO        \n",
       "2 NO        NO        \n",
       "3 NO        NO        \n",
       "4 YES       NO        \n",
       "5 NO        NO        \n",
       "6 NO        NO        "
      ]
     },
     "metadata": {},
     "output_type": "display_data"
    }
   ],
   "source": [
    "# Reading data\n",
    "data <- read.table('dodgers.csv' , header=TRUE, sep = ',')\n",
    "head(data)"
   ]
  },
  {
   "cell_type": "markdown",
   "metadata": {},
   "source": [
    "# Exploratory data analysis"
   ]
  },
  {
   "cell_type": "code",
   "execution_count": 32,
   "metadata": {},
   "outputs": [
    {
     "data": {
      "text/plain": [
       " month         day            attend         day_of_week      opponent \n",
       " APR:12   Min.   : 1.00   Min.   :24312   Friday   :13   Giants   : 9  \n",
       " AUG:15   1st Qu.: 8.00   1st Qu.:34493   Monday   :12   Padres   : 9  \n",
       " JUL:12   Median :15.00   Median :40284   Saturday :13   Rockies  : 9  \n",
       " JUN: 9   Mean   :16.14   Mean   :41040   Sunday   :13   Snakes   : 9  \n",
       " MAY:18   3rd Qu.:25.00   3rd Qu.:46588   Thursday : 5   Cardinals: 7  \n",
       " OCT: 3   Max.   :31.00   Max.   :56000   Tuesday  :13   Brewers  : 4  \n",
       " SEP:12                                   Wednesday:12   (Other)  :34  \n",
       "      temp          skies    day_night   cap     shirt    fireworks bobblehead\n",
       " Min.   :54.00   Clear :62   Day  :15   NO :79   NO :78   NO :67    NO :70    \n",
       " 1st Qu.:67.00   Cloudy:19   Night:66   YES: 2   YES: 3   YES:14    YES:11    \n",
       " Median :73.00                                                                \n",
       " Mean   :73.15                                                                \n",
       " 3rd Qu.:79.00                                                                \n",
       " Max.   :95.00                                                                \n",
       "                                                                              "
      ]
     },
     "metadata": {},
     "output_type": "display_data"
    }
   ],
   "source": [
    "# print summary data\n",
    "summary(data)"
   ]
  },
  {
   "cell_type": "code",
   "execution_count": null,
   "metadata": {},
   "outputs": [],
   "source": []
  },
  {
   "cell_type": "code",
   "execution_count": 33,
   "metadata": {},
   "outputs": [
    {
     "data": {
      "text/html": [
       "FALSE"
      ],
      "text/latex": [
       "FALSE"
      ],
      "text/markdown": [
       "FALSE"
      ],
      "text/plain": [
       "[1] FALSE"
      ]
     },
     "metadata": {},
     "output_type": "display_data"
    }
   ],
   "source": [
    "# check for null values in data frame\n",
    "any(is.na(data))"
   ]
  },
  {
   "cell_type": "markdown",
   "metadata": {},
   "source": [
    "No missing values"
   ]
  },
  {
   "cell_type": "code",
   "execution_count": 34,
   "metadata": {},
   "outputs": [
    {
     "name": "stdout",
     "output_type": "stream",
     "text": [
      "'data.frame':\t81 obs. of  12 variables:\n",
      " $ month      : Factor w/ 7 levels \"APR\",\"AUG\",\"JUL\",..: 1 1 1 1 1 1 1 1 1 1 ...\n",
      " $ day        : int  10 11 12 13 14 15 23 24 25 27 ...\n",
      " $ attend     : int  56000 29729 28328 31601 46549 38359 26376 44014 26345 44807 ...\n",
      " $ day_of_week: Factor w/ 7 levels \"Friday\",\"Monday\",..: 6 7 5 1 3 4 2 6 7 1 ...\n",
      " $ opponent   : Factor w/ 17 levels \"Angels\",\"Astros\",..: 13 13 13 11 11 11 3 3 3 10 ...\n",
      " $ temp       : int  67 58 57 54 57 65 60 63 64 66 ...\n",
      " $ skies      : Factor w/ 2 levels \"Clear \",\"Cloudy\": 1 2 2 2 2 1 2 2 2 1 ...\n",
      " $ day_night  : Factor w/ 2 levels \"Day\",\"Night\": 1 2 2 2 2 1 2 2 2 2 ...\n",
      " $ cap        : Factor w/ 2 levels \"NO\",\"YES\": 1 1 1 1 1 1 1 1 1 1 ...\n",
      " $ shirt      : Factor w/ 2 levels \"NO\",\"YES\": 1 1 1 1 1 1 1 1 1 1 ...\n",
      " $ fireworks  : Factor w/ 2 levels \"NO\",\"YES\": 1 1 1 2 1 1 1 1 1 2 ...\n",
      " $ bobblehead : Factor w/ 2 levels \"NO\",\"YES\": 1 1 1 1 1 1 1 1 1 1 ...\n"
     ]
    }
   ],
   "source": [
    "# print structure of data \n",
    "str(data)"
   ]
  },
  {
   "cell_type": "markdown",
   "metadata": {},
   "source": [
    "Note: All categorical variables are considered as Factors."
   ]
  },
  {
   "cell_type": "code",
   "execution_count": 35,
   "metadata": {},
   "outputs": [
    {
     "data": {
      "text/html": [
       "81"
      ],
      "text/latex": [
       "81"
      ],
      "text/markdown": [
       "81"
      ],
      "text/plain": [
       "[1] 81"
      ]
     },
     "metadata": {},
     "output_type": "display_data"
    }
   ],
   "source": [
    "# number of rows\n",
    "nrow(data)"
   ]
  },
  {
   "cell_type": "code",
   "execution_count": 36,
   "metadata": {},
   "outputs": [
    {
     "data": {
      "text/html": [
       "12"
      ],
      "text/latex": [
       "12"
      ],
      "text/markdown": [
       "12"
      ],
      "text/plain": [
       "[1] 12"
      ]
     },
     "metadata": {},
     "output_type": "display_data"
    }
   ],
   "source": [
    "# number of columns\n",
    "ncol(data)"
   ]
  },
  {
   "cell_type": "markdown",
   "metadata": {},
   "source": [
    "# Checking distributions"
   ]
  },
  {
   "cell_type": "code",
   "execution_count": 37,
   "metadata": {},
   "outputs": [
    {
     "data": {
      "image/png": "[encoded data removed]",
      "text/plain": [
       "plot without title"
      ]
     },
     "metadata": {},
     "output_type": "display_data"
    }
   ],
   "source": [
    "# Histogram with Frequency\n",
    "hsplot <- ggplot(data, aes(x= data$attend)) +\n",
    "  geom_histogram(binwidth= 1000) +\n",
    "  theme_classic()+ \n",
    "  labs(x = \"Attendance\", y= \"Frequency\", title = \"Histogram for attend\")\n",
    "\n",
    "hsplot"
   ]
  },
  {
   "cell_type": "markdown",
   "metadata": {},
   "source": [
    "Distribution of variable attendance does not appear to be normal, lets check density plot to smoothen the impact of bins"
   ]
  },
  {
   "cell_type": "code",
   "execution_count": 38,
   "metadata": {},
   "outputs": [
    {
     "data": {
      "image/png": "[encoded data removed]",
      "text/plain": [
       "plot without title"
      ]
     },
     "metadata": {},
     "output_type": "display_data"
    }
   ],
   "source": [
    "dnplot_attend <- ggplot(data, aes(x= data$attend)) +\n",
    "  geom_density(fill = \"skyblue\") +\n",
    "  theme_classic()+ \n",
    "  labs(x = \"Attendance\", y= \"Density\", title = \"Density plot for Attendance\")\n",
    "\n",
    "dnplot_attend"
   ]
  },
  {
   "cell_type": "markdown",
   "metadata": {},
   "source": [
    "Attendence is positively skewed as it has bigger tail towards right. "
   ]
  },
  {
   "cell_type": "code",
   "execution_count": 39,
   "metadata": {},
   "outputs": [
    {
     "data": {
      "image/png": "[encoded data removed]",
      "text/plain": [
       "plot without title"
      ]
     },
     "metadata": {},
     "output_type": "display_data"
    }
   ],
   "source": [
    "# Density plot to check distribution of temperature\n",
    "dnsplot_temp <- ggplot(data, aes(x= data$temp,  y=..density..)) +\n",
    "  geom_density(fill = \"lightgreen\") +\n",
    "  #geom_point() +\n",
    "  labs(x = \"Temperature\", y= \"Density\", title = \"Density plot of Temparature\")\n",
    "\n",
    "dnsplot_temp"
   ]
  },
  {
   "cell_type": "markdown",
   "metadata": {},
   "source": [
    "Distribution of temparatures appears some what closer to normal distribution"
   ]
  },
  {
   "cell_type": "code",
   "execution_count": 40,
   "metadata": {},
   "outputs": [
    {
     "data": {
      "text/plain": [
       "data \n",
       "\n",
       " 12  Variables      81  Observations\n",
       "--------------------------------------------------------------------------------\n",
       "month \n",
       "       n  missing distinct \n",
       "      81        0        7 \n",
       "                                                    \n",
       "Value        APR   AUG   JUL   JUN   MAY   OCT   SEP\n",
       "Frequency     12    15    12     9    18     3    12\n",
       "Proportion 0.148 0.185 0.148 0.111 0.222 0.037 0.148\n",
       "--------------------------------------------------------------------------------\n",
       "day \n",
       "       n  missing distinct     Info     Mean      Gmd      .05      .10 \n",
       "      81        0       31    0.998    16.14     11.1        2        3 \n",
       "     .25      .50      .75      .90      .95 \n",
       "       8       15       25       29       30 \n",
       "\n",
       "lowest :  1  2  3  4  5, highest: 27 28 29 30 31\n",
       "--------------------------------------------------------------------------------\n",
       "attend \n",
       "       n  missing distinct     Info     Mean      Gmd      .05      .10 \n",
       "      81        0       80        1    41040     9525    26773    31607 \n",
       "     .25      .50      .75      .90      .95 \n",
       "   34493    40284    46588    53570    55024 \n",
       "\n",
       "lowest : 24312 25509 26345 26376 26773, highest: 54621 55024 55279 55359 56000\n",
       "--------------------------------------------------------------------------------\n",
       "day_of_week \n",
       "       n  missing distinct \n",
       "      81        0        7 \n",
       "                                                                      \n",
       "Value         Friday    Monday  Saturday    Sunday  Thursday   Tuesday\n",
       "Frequency         13        12        13        13         5        13\n",
       "Proportion     0.160     0.148     0.160     0.160     0.062     0.160\n",
       "                    \n",
       "Value      Wednesday\n",
       "Frequency         12\n",
       "Proportion     0.148\n",
       "--------------------------------------------------------------------------------\n",
       "opponent \n",
       "       n  missing distinct \n",
       "      81        0       17 \n",
       "\n",
       "Angels (3, 0.037), Astros (3, 0.037), Braves (3, 0.037), Brewers (4, 0.049),\n",
       "Cardinals (7, 0.086), Cubs (3, 0.037), Giants (9, 0.111), Marlins (3, 0.037),\n",
       "Mets (4, 0.049), Nationals (3, 0.037), Padres (9, 0.111), Phillies (3, 0.037),\n",
       "Pirates (3, 0.037), Reds (3, 0.037), Rockies (9, 0.111), Snakes (9, 0.111),\n",
       "White Sox (3, 0.037)\n",
       "--------------------------------------------------------------------------------\n",
       "temp \n",
       "       n  missing distinct     Info     Mean      Gmd      .05      .10 \n",
       "      81        0       32    0.997    73.15    9.391       59       64 \n",
       "     .25      .50      .75      .90      .95 \n",
       "      67       73       79       84       86 \n",
       "\n",
       "lowest : 54 57 58 59 60, highest: 84 85 86 89 95\n",
       "--------------------------------------------------------------------------------\n",
       "skies \n",
       "       n  missing distinct \n",
       "      81        0        2 \n",
       "                        \n",
       "Value       Clear Cloudy\n",
       "Frequency      62     19\n",
       "Proportion  0.765  0.235\n",
       "--------------------------------------------------------------------------------\n",
       "day_night \n",
       "       n  missing distinct \n",
       "      81        0        2 \n",
       "                      \n",
       "Value        Day Night\n",
       "Frequency     15    66\n",
       "Proportion 0.185 0.815\n",
       "--------------------------------------------------------------------------------\n",
       "cap \n",
       "       n  missing distinct \n",
       "      81        0        2 \n",
       "                      \n",
       "Value         NO   YES\n",
       "Frequency     79     2\n",
       "Proportion 0.975 0.025\n",
       "--------------------------------------------------------------------------------\n",
       "shirt \n",
       "       n  missing distinct \n",
       "      81        0        2 \n",
       "                      \n",
       "Value         NO   YES\n",
       "Frequency     78     3\n",
       "Proportion 0.963 0.037\n",
       "--------------------------------------------------------------------------------\n",
       "fireworks \n",
       "       n  missing distinct \n",
       "      81        0        2 \n",
       "                      \n",
       "Value         NO   YES\n",
       "Frequency     67    14\n",
       "Proportion 0.827 0.173\n",
       "--------------------------------------------------------------------------------\n",
       "bobblehead \n",
       "       n  missing distinct \n",
       "      81        0        2 \n",
       "                      \n",
       "Value         NO   YES\n",
       "Frequency     70    11\n",
       "Proportion 0.864 0.136\n",
       "--------------------------------------------------------------------------------"
      ]
     },
     "metadata": {},
     "output_type": "display_data"
    }
   ],
   "source": [
    "# examine the data through descriptive statistics\n",
    "Hmisc::describe(data)"
   ]
  },
  {
   "cell_type": "markdown",
   "metadata": {},
   "source": [
    "# Box plots"
   ]
  },
  {
   "cell_type": "code",
   "execution_count": 41,
   "metadata": {},
   "outputs": [
    {
     "data": {
      "image/png": "[encoded data removed]",
      "text/plain": [
       "plot without title"
      ]
     },
     "metadata": {},
     "output_type": "display_data"
    }
   ],
   "source": [
    "# Box plot to check outlier for attendance\n",
    "\n",
    "bxplot_wkday <- ggplot(data, aes(x = day_of_week , y = data$attend)) +\n",
    "  geom_boxplot(aes(fill = day_of_week))+\n",
    "  theme_bw()+\n",
    "  labs(x = \"Week Day\", y= \"Attendence\", title = \"Box plot for attendance for each week day\")\n",
    "\n",
    "bxplot_wkday"
   ]
  },
  {
   "cell_type": "markdown",
   "metadata": {},
   "source": [
    "Observations: \n",
    "\n",
    "Highest attendance is observed on Tuesdays and lowest on Mondays"
   ]
  },
  {
   "cell_type": "code",
   "execution_count": 42,
   "metadata": {},
   "outputs": [
    {
     "data": {
      "image/png": "[encoded data removed]",
      "text/plain": [
       "plot without title"
      ]
     },
     "metadata": {},
     "output_type": "display_data"
    }
   ],
   "source": [
    "bxplot_month <- ggplot(data, aes(x = month , y = data$attend)) +\n",
    "  geom_boxplot(aes(fill = month))+\n",
    "  theme_bw()+\n",
    "  labs(x = \"Month\", y= \"Attendence\", title = \"Box plot for attendance for each month\")\n",
    "\n",
    "bxplot_month"
   ]
  },
  {
   "cell_type": "markdown",
   "metadata": {},
   "source": [
    "Observations:\n",
    "\n",
    "Highest attendance is observed in June and lowest during month of Oct"
   ]
  },
  {
   "cell_type": "code",
   "execution_count": 43,
   "metadata": {},
   "outputs": [
    {
     "data": {
      "image/png": "[encoded data removed]",
      "text/plain": [
       "plot without title"
      ]
     },
     "metadata": {},
     "output_type": "display_data"
    }
   ],
   "source": [
    "violinplot <- ggplot(data, aes(x = day_of_week, y = data$attend))+\n",
    "  geom_violin(aes(fill = day_of_week))+\n",
    "  geom_jitter(height = 0, width = 0.1)+\n",
    "  stat_summary(fun.y = mean, geom = \"point\", size = 3, color = \"red\")+ # adding mean\n",
    "  theme_bw()+\n",
    "  labs(x = \"Week Day\", y= \"Attendence\", title = \"Violin plot for attendance\")\n",
    "\n",
    "violinplot"
   ]
  },
  {
   "cell_type": "code",
   "execution_count": 44,
   "metadata": {},
   "outputs": [
    {
     "ename": "ERROR",
     "evalue": "Error in attend_by_wkday %>% select(data, day_of_week, attend): could not find function \"%>%\"\n",
     "output_type": "error",
     "traceback": [
      "Error in attend_by_wkday %>% select(data, day_of_week, attend): could not find function \"%>%\"\nTraceback:\n"
     ]
    }
   ],
   "source": [
    "# Looking at bar plots to see how the attendence is for each day of week\n",
    "\n",
    "attend_by_wkday %>% select(data, day_of_week, attend)\n",
    "attend_by_wkday\n",
    "\n",
    "grp_wkday <- aggregate(attend_by_wkday$attend, by = list(attend_by_wkday$day_of_week), FUN = (sum))\n",
    "grp_wkday"
   ]
  },
  {
   "cell_type": "code",
   "execution_count": 45,
   "metadata": {},
   "outputs": [
    {
     "data": {
      "image/png": "[encoded data removed]",
      "text/plain": [
       "plot without title"
      ]
     },
     "metadata": {},
     "output_type": "display_data"
    }
   ],
   "source": [
    "ggplot(data = data, aes(x=day_of_week, y = attend))+ \n",
    "  geom_bar(stat=\"identity\", fill = \"steelblue\")+\n",
    "  labs(title = \"Bar plot of day of week Vs Attendance\", y = \"Attendence\", x = \"Day of week\")\n"
   ]
  },
  {
   "cell_type": "code",
   "execution_count": 46,
   "metadata": {},
   "outputs": [
    {
     "data": {
      "image/png": "[encoded data removed]",
      "text/plain": [
       "plot without title"
      ]
     },
     "metadata": {},
     "output_type": "display_data"
    }
   ],
   "source": [
    "stackedbar <- ggplot(data = data, aes(x=day_of_week, y = attend, fill = factor(day_night)))+ \n",
    "  geom_bar(stat=\"identity\") +\n",
    "  labs(title = \"Bar plot of day of week Vs Attendance\", y = \"Attendence\", x = \"Day of week\")\n",
    "stackedbar"
   ]
  },
  {
   "cell_type": "markdown",
   "metadata": {},
   "source": [
    "Observations: \n",
    "\n",
    "Highest attendance for Night's is observed on Sunday's and Tuesday's in general have higher attendance"
   ]
  },
  {
   "cell_type": "code",
   "execution_count": 47,
   "metadata": {},
   "outputs": [
    {
     "data": {
      "image/png": "[encoded data removed]",
      "text/plain": [
       "plot without title"
      ]
     },
     "metadata": {},
     "output_type": "display_data"
    }
   ],
   "source": [
    "# plotting attendance with respective weather \n",
    "\n",
    "stackedbar_wthr <- ggplot(data = data, aes(x=day_of_week, y = attend, fill = factor(skies)))+ \n",
    "  geom_bar(stat=\"identity\") +\n",
    "  labs(title = \"Bar plot of day of week Vs Attendance\", y = \"Attendence\", x = \"Day of week\")\n",
    "stackedbar_wthr"
   ]
  },
  {
   "cell_type": "code",
   "execution_count": 48,
   "metadata": {},
   "outputs": [
    {
     "data": {
      "image/png": "[encoded data removed]",
      "text/plain": [
       "plot without title"
      ]
     },
     "metadata": {},
     "output_type": "display_data"
    }
   ],
   "source": [
    "# plotting attendance with respective weather \n",
    "\n",
    "stackedbar_mth <- ggplot(data = data, aes(x=month, y = attend, fill = factor(skies)))+ \n",
    "  geom_bar(stat=\"identity\") +\n",
    "  labs(title = \"Bar plot of day of week Vs Attendance\", y = \"Attendence\", x = \"Month\")\n",
    "stackedbar_mth\n"
   ]
  },
  {
   "cell_type": "code",
   "execution_count": 49,
   "metadata": {},
   "outputs": [
    {
     "data": {
      "image/png": "[encoded data removed]",
      "text/plain": [
       "plot without title"
      ]
     },
     "metadata": {},
     "output_type": "display_data"
    }
   ],
   "source": [
    "# plotting attendance with respective weather \n",
    "stackedbar_opp <- ggplot(data = data, aes(x=opponent, y = attend, fill = factor(day_of_week)))+ \n",
    "  geom_bar(stat=\"identity\") +\n",
    "  coord_flip()+\n",
    "  labs(title = \"Bar plot of day of week Vs Attendance\", y = \"Attendence\", x = \"Opponent\")\n",
    "stackedbar_opp"
   ]
  },
  {
   "cell_type": "markdown",
   "metadata": {},
   "source": [
    "Observations :\n",
    "\n",
    "Top 3 opponents with respective attendance are Padres, Snakes, Rockies and Gaints"
   ]
  },
  {
   "cell_type": "code",
   "execution_count": 50,
   "metadata": {},
   "outputs": [
    {
     "name": "stderr",
     "output_type": "stream",
     "text": [
      "Warning message:\n",
      "\"Ignoring unknown parameters: binwidth, bins, pad\""
     ]
    },
    {
     "data": {
      "image/png": "[encoded data removed]",
      "text/plain": [
       "plot without title"
      ]
     },
     "metadata": {},
     "output_type": "display_data"
    }
   ],
   "source": [
    "# Bar plots with Opponents\n",
    "\n",
    "ggplot(data = data)+ \n",
    "  geom_histogram(stat = \"count\", mapping = aes(x = opponent), fill = \"steelblue\")+\n",
    "  coord_flip()+\n",
    "  labs(title = \"Number of matches by Opponent\", y = \"Counts\", x = \"Opponent\")\n"
   ]
  },
  {
   "cell_type": "markdown",
   "metadata": {},
   "source": [
    "Observations:\n",
    "\n",
    "Top 3 opponents have higher total attendance as they have more matches"
   ]
  },
  {
   "cell_type": "markdown",
   "metadata": {},
   "source": [
    "# Scatter plot"
   ]
  },
  {
   "cell_type": "code",
   "execution_count": 51,
   "metadata": {},
   "outputs": [
    {
     "data": {
      "image/png": "[encoded data removed]",
      "text/plain": [
       "plot without title"
      ]
     },
     "metadata": {},
     "output_type": "display_data"
    }
   ],
   "source": [
    "ggplot(data=data, aes(x=attend, y=temp)) + geom_point()+\n",
    "  theme_bw() +\n",
    "  geom_smooth(method=lm, se=FALSE) +\n",
    "  labs(title = \"Scatter plot between attend and temp\", x = \"Attendence\", y = \"Temparature\")"
   ]
  },
  {
   "cell_type": "code",
   "execution_count": 52,
   "metadata": {},
   "outputs": [
    {
     "data": {
      "image/png": "[encoded data removed]",
      "text/plain": [
       "plot without title"
      ]
     },
     "metadata": {},
     "output_type": "display_data"
    }
   ],
   "source": [
    "# looking at scatter plot with respetive other variable - day of week\n",
    "ggplot(data=data, aes(x=attend, y=temp)) + geom_point()+\n",
    "  theme_bw() +\n",
    "  geom_smooth(method=lm, se=FALSE) +\n",
    "  facet_wrap(~day_night)+\n",
    "  labs(title = \"Scatter plot between attend and temp\", x = \"Attendence\", y = \"Temparature\")"
   ]
  },
  {
   "cell_type": "code",
   "execution_count": 53,
   "metadata": {},
   "outputs": [
    {
     "data": {
      "image/png": "[encoded data removed]",
      "text/plain": [
       "plot without title"
      ]
     },
     "metadata": {},
     "output_type": "display_data"
    }
   ],
   "source": [
    "# Scatter plot for attendence by day of week\n",
    "ggplot(data=data, aes(x=attend, y=temp, color = day_of_week)) + geom_point()+\n",
    "  theme_bw() +  # geom_smooth(method=loess, se=FALSE)\n",
    "labs(title = \"Scatter plot between attend and temp\", x = \"Attendence\", y = \"Temparature\")"
   ]
  },
  {
   "cell_type": "code",
   "execution_count": null,
   "metadata": {},
   "outputs": [],
   "source": []
  },
  {
   "cell_type": "markdown",
   "metadata": {},
   "source": [
    "# Bulding Model"
   ]
  },
  {
   "cell_type": "markdown",
   "metadata": {},
   "source": [
    "Idea is to build a model to predict best time for running a marketing promotion to increase the attendence. So attendence is the dependant variable here and we need to find out the dependant variables that could help us predict this variable better. "
   ]
  },
  {
   "cell_type": "markdown",
   "metadata": {},
   "source": [
    "# Feature selection"
   ]
  },
  {
   "cell_type": "code",
   "execution_count": 54,
   "metadata": {},
   "outputs": [
    {
     "data": {
      "text/plain": [
       "\n",
       "\tOne-way analysis of means (not assuming equal variances)\n",
       "\n",
       "data:  attend and day_of_week\n",
       "F = 3.1834, num df = 6.000, denom df = 26.407, p-value = 0.01746\n"
      ]
     },
     "metadata": {},
     "output_type": "display_data"
    }
   ],
   "source": [
    "oneway.test(attend ~ day_of_week, data = data)"
   ]
  },
  {
   "cell_type": "code",
   "execution_count": 55,
   "metadata": {},
   "outputs": [
    {
     "data": {
      "text/plain": [
       "\n",
       "\tOne-way analysis of means (not assuming equal variances)\n",
       "\n",
       "data:  attend and month\n",
       "F = 3.981, num df = 6.000, denom df = 19.709, p-value = 0.00899\n"
      ]
     },
     "metadata": {},
     "output_type": "display_data"
    }
   ],
   "source": [
    "oneway.test(attend ~ month, data = data)"
   ]
  },
  {
   "cell_type": "code",
   "execution_count": 56,
   "metadata": {},
   "outputs": [
    {
     "data": {
      "text/plain": [
       "\n",
       "\tOne-way analysis of means (not assuming equal variances)\n",
       "\n",
       "data:  attend and opponent\n",
       "F = 2.8508, num df = 16.000, denom df = 17.095, p-value = 0.01923\n"
      ]
     },
     "metadata": {},
     "output_type": "display_data"
    }
   ],
   "source": [
    "oneway.test(attend ~ opponent, data = data)"
   ]
  },
  {
   "cell_type": "code",
   "execution_count": 57,
   "metadata": {},
   "outputs": [
    {
     "data": {
      "text/plain": [
       "\n",
       "\tOne-way analysis of means (not assuming equal variances)\n",
       "\n",
       "data:  attend and day_night\n",
       "F = 0.18362, num df = 1.00, denom df = 23.62, p-value = 0.6722\n"
      ]
     },
     "metadata": {},
     "output_type": "display_data"
    }
   ],
   "source": [
    "oneway.test(attend ~ day_night, data = data)"
   ]
  },
  {
   "cell_type": "code",
   "execution_count": 58,
   "metadata": {},
   "outputs": [
    {
     "data": {
      "text/html": [
       "0.0989507309062371"
      ],
      "text/latex": [
       "0.0989507309062371"
      ],
      "text/markdown": [
       "0.0989507309062371"
      ],
      "text/plain": [
       "[1] 0.09895073"
      ]
     },
     "metadata": {},
     "output_type": "display_data"
    }
   ],
   "source": [
    "cor(data$attend, data$temp) "
   ]
  },
  {
   "cell_type": "code",
   "execution_count": 59,
   "metadata": {},
   "outputs": [
    {
     "data": {
      "text/plain": [
       "\n",
       "\tOne-way analysis of means (not assuming equal variances)\n",
       "\n",
       "data:  attend and skies\n",
       "F = 1.6559, num df = 1.000, denom df = 27.664, p-value = 0.2088\n"
      ]
     },
     "metadata": {},
     "output_type": "display_data"
    }
   ],
   "source": [
    "oneway.test(attend ~ skies, data = data)"
   ]
  },
  {
   "cell_type": "code",
   "execution_count": 60,
   "metadata": {},
   "outputs": [
    {
     "data": {
      "text/plain": [
       "\n",
       "\tOne-way analysis of means (not assuming equal variances)\n",
       "\n",
       "data:  attend and cap\n",
       "F = 0.43982, num df = 1.0000, denom df = 1.0977, p-value = 0.619\n"
      ]
     },
     "metadata": {},
     "output_type": "display_data"
    }
   ],
   "source": [
    "oneway.test(attend ~ cap, data = data)"
   ]
  },
  {
   "cell_type": "code",
   "execution_count": 61,
   "metadata": {},
   "outputs": [
    {
     "data": {
      "text/plain": [
       "\n",
       "\tOne-way analysis of means (not assuming equal variances)\n",
       "\n",
       "data:  attend and shirt\n",
       "F = 3.3077, num df = 1.0000, denom df = 2.3992, p-value = 0.1891\n"
      ]
     },
     "metadata": {},
     "output_type": "display_data"
    }
   ],
   "source": [
    "oneway.test(attend ~ shirt, data = data)"
   ]
  },
  {
   "cell_type": "code",
   "execution_count": 62,
   "metadata": {},
   "outputs": [
    {
     "data": {
      "text/plain": [
       "\n",
       "\tOne-way analysis of means (not assuming equal variances)\n",
       "\n",
       "data:  attend and fireworks\n",
       "F = 0.000592, num df = 1.000, denom df = 27.332, p-value = 0.9808\n"
      ]
     },
     "metadata": {},
     "output_type": "display_data"
    }
   ],
   "source": [
    "oneway.test(attend ~ fireworks, data = data)"
   ]
  },
  {
   "cell_type": "code",
   "execution_count": 63,
   "metadata": {},
   "outputs": [
    {
     "data": {
      "text/plain": [
       "\n",
       "\tOne-way analysis of means (not assuming equal variances)\n",
       "\n",
       "data:  attend and bobblehead\n",
       "F = 131.25, num df = 1.000, denom df = 34.218, p-value = 2.94e-13\n"
      ]
     },
     "metadata": {},
     "output_type": "display_data"
    }
   ],
   "source": [
    "oneway.test(attend ~ bobblehead, data = data)"
   ]
  },
  {
   "cell_type": "markdown",
   "metadata": {},
   "source": [
    "# Observations regarding feature selection:"
   ]
  },
  {
   "cell_type": "markdown",
   "metadata": {},
   "source": [
    "Features with p-value lower than 0.05 are considered to have significant impact on the dependant variable (attendance).\n",
    "\n",
    "SO, the predictors for this prediction are variables - bobblehead, day of week, month and opponent"
   ]
  },
  {
   "cell_type": "markdown",
   "metadata": {},
   "source": [
    "# Splitting data into test and train"
   ]
  },
  {
   "cell_type": "code",
   "execution_count": 64,
   "metadata": {},
   "outputs": [
    {
     "data": {
      "text/html": [
       "61"
      ],
      "text/latex": [
       "61"
      ],
      "text/markdown": [
       "61"
      ],
      "text/plain": [
       "[1] 61"
      ]
     },
     "metadata": {},
     "output_type": "display_data"
    },
    {
     "data": {
      "text/html": [
       "20"
      ],
      "text/latex": [
       "20"
      ],
      "text/markdown": [
       "20"
      ],
      "text/plain": [
       "[1] 20"
      ]
     },
     "metadata": {},
     "output_type": "display_data"
    }
   ],
   "source": [
    "# splitting data into test and train\n",
    "require(caTools)\n",
    " \n",
    "#for consistent results\n",
    "set.seed(1000)\n",
    "\n",
    "sample = sample.split(data, SplitRatio = 0.75)\n",
    "\n",
    "train = subset(data, sample == TRUE)\n",
    "nrow(train)\n",
    "\n",
    "test = subset(data, sample == FALSE)\n",
    "nrow(test)"
   ]
  },
  {
   "cell_type": "markdown",
   "metadata": {},
   "source": [
    "Fitting multiple linear regression model on training data"
   ]
  },
  {
   "cell_type": "markdown",
   "metadata": {},
   "source": [
    "# Building Models"
   ]
  },
  {
   "cell_type": "code",
   "execution_count": 65,
   "metadata": {},
   "outputs": [
    {
     "data": {
      "text/plain": [
       "\n",
       "Call:\n",
       "lm(formula = fn.model1, data = train)\n",
       "\n",
       "Residuals:\n",
       "     Min       1Q   Median       3Q      Max \n",
       "-11263.3  -3274.9   -176.3   2921.7  14907.7 \n",
       "\n",
       "Coefficients:\n",
       "                     Estimate Std. Error t value Pr(>|t|)    \n",
       "(Intercept)           39566.9     1754.2  22.556  < 2e-16 ***\n",
       "day_of_weekMonday     -3633.0     2733.7  -1.329   0.1895    \n",
       "day_of_weekSaturday    1755.0     2458.3   0.714   0.4784    \n",
       "day_of_weekSunday       205.7     2561.1   0.080   0.9363    \n",
       "day_of_weekThursday   -6626.5     3470.8  -1.909   0.0617 .  \n",
       "day_of_weekTuesday     1525.4     2726.0   0.560   0.5781    \n",
       "day_of_weekWednesday  -2794.6     2480.8  -1.127   0.2650    \n",
       "bobbleheadYES         13483.3     2259.9   5.966 2.05e-07 ***\n",
       "---\n",
       "Signif. codes:  0 '***' 0.001 '**' 0.01 '*' 0.05 '.' 0.1 ' ' 1\n",
       "\n",
       "Residual standard error: 5547 on 53 degrees of freedom\n",
       "Multiple R-squared:  0.5549,\tAdjusted R-squared:  0.4961 \n",
       "F-statistic:  9.44 on 7 and 53 DF,  p-value: 1.52e-07\n"
      ]
     },
     "metadata": {},
     "output_type": "display_data"
    }
   ],
   "source": [
    "fn.model1 = {attend ~ day_of_week  + bobblehead }\n",
    "\n",
    "mlm.fit.train1 = lm(fn.model1, data = train)\n",
    "summary(mlm.fit.train1)"
   ]
  },
  {
   "cell_type": "code",
   "execution_count": 66,
   "metadata": {},
   "outputs": [
    {
     "data": {
      "text/plain": [
       "            Df    Sum Sq   Mean Sq F value   Pr(>F)    \n",
       "day_of_week  6 9.379e+08 1.563e+08    5.08  0.00035 ***\n",
       "bobblehead   1 1.095e+09 1.095e+09   35.60 2.05e-07 ***\n",
       "Residuals   53 1.631e+09 3.077e+07                     \n",
       "---\n",
       "Signif. codes:  0 '***' 0.001 '**' 0.01 '*' 0.05 '.' 0.1 ' ' 1"
      ]
     },
     "metadata": {},
     "output_type": "display_data"
    }
   ],
   "source": [
    "summary(aov(mlm.fit.train1))"
   ]
  },
  {
   "cell_type": "markdown",
   "metadata": {},
   "source": [
    "Model 2"
   ]
  },
  {
   "cell_type": "code",
   "execution_count": 67,
   "metadata": {},
   "outputs": [
    {
     "data": {
      "text/plain": [
       "\n",
       "Call:\n",
       "lm(formula = fn.model2, data = train)\n",
       "\n",
       "Residuals:\n",
       "     Min       1Q   Median       3Q      Max \n",
       "-10605.4  -2599.7   -772.8   2442.3  15177.5 \n",
       "\n",
       "Coefficients:\n",
       "                     Estimate Std. Error t value Pr(>|t|)    \n",
       "(Intercept)             39903       2450  16.284  < 2e-16 ***\n",
       "monthAUG                 1192       2567   0.464   0.6444    \n",
       "monthJUL                -1110       2834  -0.392   0.6970    \n",
       "monthJUN                 2875       3034   0.948   0.3482    \n",
       "monthMAY                -2185       2447  -0.893   0.3765    \n",
       "monthOCT                -1185       4548  -0.261   0.7956    \n",
       "monthSEP                -1568       2735  -0.573   0.5692    \n",
       "day_of_weekMonday       -3144       2843  -1.106   0.2745    \n",
       "day_of_weekSaturday      1623       2508   0.647   0.5205    \n",
       "day_of_weekSunday        1056       2644   0.399   0.6913    \n",
       "day_of_weekThursday     -7146       3580  -1.996   0.0517 .  \n",
       "day_of_weekTuesday       2004       2844   0.704   0.4846    \n",
       "day_of_weekWednesday    -2952       2568  -1.150   0.2561    \n",
       "bobbleheadYES           12910       2445   5.280 3.24e-06 ***\n",
       "---\n",
       "Signif. codes:  0 '***' 0.001 '**' 0.01 '*' 0.05 '.' 0.1 ' ' 1\n",
       "\n",
       "Residual standard error: 5620 on 47 degrees of freedom\n",
       "Multiple R-squared:  0.5948,\tAdjusted R-squared:  0.4827 \n",
       "F-statistic: 5.307 on 13 and 47 DF,  p-value: 9.892e-06\n"
      ]
     },
     "metadata": {},
     "output_type": "display_data"
    }
   ],
   "source": [
    "fn.model2 = {attend ~ month + day_of_week +  bobblehead }\n",
    "\n",
    "mlm.fit.train2 = lm(fn.model2, data = train)\n",
    "summary(mlm.fit.train2)\n",
    "\n"
   ]
  },
  {
   "cell_type": "code",
   "execution_count": 68,
   "metadata": {},
   "outputs": [
    {
     "data": {
      "text/plain": [
       "            Df    Sum Sq   Mean Sq F value   Pr(>F)    \n",
       "month        6 3.437e+08  57276816   1.813 0.116896    \n",
       "day_of_week  6 9.552e+08 159197795   5.040 0.000463 ***\n",
       "bobblehead   1 8.806e+08 880643455  27.878 3.24e-06 ***\n",
       "Residuals   47 1.485e+09  31588649                     \n",
       "---\n",
       "Signif. codes:  0 '***' 0.001 '**' 0.01 '*' 0.05 '.' 0.1 ' ' 1"
      ]
     },
     "metadata": {},
     "output_type": "display_data"
    }
   ],
   "source": [
    "summary(aov(mlm.fit.train2))"
   ]
  },
  {
   "cell_type": "markdown",
   "metadata": {},
   "source": [
    "Model 3"
   ]
  },
  {
   "cell_type": "code",
   "execution_count": 51,
   "metadata": {},
   "outputs": [
    {
     "data": {
      "text/plain": [
       "\n",
       "Call:\n",
       "lm(formula = fn.model3, data = train)\n",
       "\n",
       "Residuals:\n",
       "    Min      1Q  Median      3Q     Max \n",
       "-8770.6 -3059.4  -507.7  2119.5 11395.0 \n",
       "\n",
       "Coefficients:\n",
       "                     Estimate Std. Error t value Pr(>|t|)   \n",
       "(Intercept)          37783.99   10736.31   3.519  0.00136 **\n",
       "day_of_weekMonday    -1758.19    4303.75  -0.409  0.68570   \n",
       "day_of_weekSaturday   2035.51    2878.16   0.707  0.48471   \n",
       "day_of_weekSunday     1727.17    3044.43   0.567  0.57458   \n",
       "day_of_weekThursday  -5210.05    5425.64  -0.960  0.34435   \n",
       "day_of_weekTuesday    4920.73    4487.20   1.097  0.28126   \n",
       "day_of_weekWednesday -1344.60    4008.81  -0.335  0.73957   \n",
       "monthAUG              7014.46    6697.93   1.047  0.30308   \n",
       "monthJUL              3608.96    4855.99   0.743  0.46296   \n",
       "monthJUN              3995.17    9788.03   0.408  0.68596   \n",
       "monthMAY              5097.50    6031.39   0.845  0.40450   \n",
       "monthOCT              2270.77    8152.81   0.279  0.78246   \n",
       "monthSEP              2927.44    5264.96   0.556  0.58219   \n",
       "bobbleheadYES        11638.54    3681.28   3.162  0.00350 **\n",
       "opponentAstros       -8356.00   12775.51  -0.654  0.51789   \n",
       "opponentBraves       -4392.56   11992.81  -0.366  0.71665   \n",
       "opponentBrewers      -9584.35   11043.44  -0.868  0.39213   \n",
       "opponentCardinals    -3068.43   10839.29  -0.283  0.77899   \n",
       "opponentCubs          -753.71   12104.47  -0.062  0.95075   \n",
       "opponentGiants       -3599.33   10738.91  -0.335  0.73976   \n",
       "opponentMarlins      -5584.29   11971.11  -0.466  0.64413   \n",
       "opponentMets           600.34    6636.46   0.090  0.92850   \n",
       "opponentNationals     4903.48   11339.24   0.432  0.66842   \n",
       "opponentPadres        -201.88   10018.87  -0.020  0.98405   \n",
       "opponentPhillies     -3745.06   11085.30  -0.338  0.73776   \n",
       "opponentPirates       4524.67   12763.96   0.354  0.72537   \n",
       "opponentReds         -8785.72   11439.96  -0.768  0.44831   \n",
       "opponentRockies      -5497.22   10530.82  -0.522  0.60537   \n",
       "opponentSnakes       -6492.64   10261.43  -0.633  0.53155   \n",
       "opponentWhite Sox       24.09    6792.00   0.004  0.99719   \n",
       "---\n",
       "Signif. codes:  0 '***' 0.001 '**' 0.01 '*' 0.05 '.' 0.1 ' ' 1\n",
       "\n",
       "Residual standard error: 5967 on 31 degrees of freedom\n",
       "Multiple R-squared:  0.6988,\tAdjusted R-squared:  0.4169 \n",
       "F-statistic:  2.48 on 29 and 31 DF,  p-value: 0.007333\n"
      ]
     },
     "metadata": {},
     "output_type": "display_data"
    }
   ],
   "source": [
    "fn.model3 = {attend ~  day_of_week + month + bobblehead + opponent}\n",
    "\n",
    "mlm.fit.train3 = lm(fn.model3, data = train )\n",
    "summary(mlm.fit.train3)\n"
   ]
  },
  {
   "cell_type": "code",
   "execution_count": 52,
   "metadata": {},
   "outputs": [
    {
     "data": {
      "text/plain": [
       "            Df    Sum Sq   Mean Sq F value   Pr(>F)    \n",
       "day_of_week  6 9.379e+08 156319274   4.390  0.00254 ** \n",
       "month        6 3.609e+08  60155337   1.689  0.15681    \n",
       "bobblehead   1 8.806e+08 880643455  24.733 2.32e-05 ***\n",
       "opponent    16 3.809e+08  23803735   0.669  0.80138    \n",
       "Residuals   31 1.104e+09  35606670                     \n",
       "---\n",
       "Signif. codes:  0 '***' 0.001 '**' 0.01 '*' 0.05 '.' 0.1 ' ' 1"
      ]
     },
     "metadata": {},
     "output_type": "display_data"
    }
   ],
   "source": [
    "summary(aov(mlm.fit.train3))"
   ]
  },
  {
   "cell_type": "code",
   "execution_count": null,
   "metadata": {},
   "outputs": [],
   "source": []
  },
  {
   "cell_type": "markdown",
   "metadata": {},
   "source": [
    "# Model Evaluation"
   ]
  },
  {
   "cell_type": "markdown",
   "metadata": {},
   "source": [
    "# Plotting model1"
   ]
  },
  {
   "cell_type": "code",
   "execution_count": 56,
   "metadata": {},
   "outputs": [
    {
     "data": {
      "image/png": "[encoded data removed]",
      "text/plain": [
       "Plot with title \"density.default(x = mlm.fit.train1$residuals)\""
      ]
     },
     "metadata": {},
     "output_type": "display_data"
    }
   ],
   "source": [
    "# plotting density plot for residuals of the model\n",
    "plot(density(mlm.fit.train1$residuals))"
   ]
  },
  {
   "cell_type": "code",
   "execution_count": 57,
   "metadata": {},
   "outputs": [
    {
     "data": {
      "image/png": "[encoded data removed]",
      "text/plain": [
       "Plot with title \"\""
      ]
     },
     "metadata": {},
     "output_type": "display_data"
    }
   ],
   "source": [
    "#plotting model\n",
    "op = par(mfrow = c(2, 2))\n",
    "plot(mlm.fit.train1)\n"
   ]
  },
  {
   "cell_type": "markdown",
   "metadata": {},
   "source": [
    "# Plotting model2"
   ]
  },
  {
   "cell_type": "code",
   "execution_count": 58,
   "metadata": {},
   "outputs": [
    {
     "data": {
      "image/png": "[encoded data removed]",
      "text/plain": [
       "Plot with title \"density.default(x = mlm.fit.train2$residuals)\""
      ]
     },
     "metadata": {},
     "output_type": "display_data"
    }
   ],
   "source": [
    "# plotting density plot for residuals of the model\n",
    "plot(density(mlm.fit.train2$residuals))"
   ]
  },
  {
   "cell_type": "code",
   "execution_count": 59,
   "metadata": {},
   "outputs": [
    {
     "data": {
      "image/png": "[encoded data removed]",
      "text/plain": [
       "Plot with title \"\""
      ]
     },
     "metadata": {},
     "output_type": "display_data"
    }
   ],
   "source": [
    "#plotting model\n",
    "op = par(mfrow = c(2, 2))\n",
    "plot(mlm.fit.train2)"
   ]
  },
  {
   "cell_type": "code",
   "execution_count": null,
   "metadata": {},
   "outputs": [],
   "source": []
  },
  {
   "cell_type": "markdown",
   "metadata": {},
   "source": [
    "# Comparing and Interpretting models"
   ]
  },
  {
   "cell_type": "markdown",
   "metadata": {},
   "source": [
    "1) Residual Vs Fitted plot shows that the model 2 (attend ~ day_of_week + month + bobblehead month) is a better model as its plot is closer to a straight line than model 1 plot\n",
    "\n",
    "2) Normal Q-Q plots for both models are almost similar\n",
    "\n",
    "3) Scale - Location plot: Model2 shows a better spread of residuals and the line is closer to straigh line in model2 plot than in model1 plot\n",
    "\n",
    "4) None of the models have influential outliers. \n",
    "\n",
    "\n",
    "Overall Model2 is slightly better - slightly lower R-squared value (0.4827) than model1(0.4961)"
   ]
  },
  {
   "cell_type": "markdown",
   "metadata": {},
   "source": [
    "# The best time to run marketting promotion is during Month of June (highest coeffecient - 2875), Tuesday nights(coeff is 2004) with a bobblehead promotion."
   ]
  },
  {
   "cell_type": "code",
   "execution_count": null,
   "metadata": {},
   "outputs": [],
   "source": []
  },
  {
   "cell_type": "markdown",
   "metadata": {},
   "source": [
    "# Prediction"
   ]
  },
  {
   "cell_type": "code",
   "execution_count": 61,
   "metadata": {},
   "outputs": [
    {
     "data": {
      "text/html": [
       "<ol class=list-inline>\n",
       "\t<li>41906.3425018269</li>\n",
       "\t<li>32756.2207122861</li>\n",
       "\t<li>39902.5170336347</li>\n",
       "\t<li>41525.843214693</li>\n",
       "\t<li>40958.7240453721</li>\n",
       "\t<li>41906.3425018269</li>\n",
       "\t<li>36950.3935935951</li>\n",
       "\t<li>39902.5170336347</li>\n",
       "\t<li>54436.0993631305</li>\n",
       "\t<li>34574.0636801798</li>\n",
       "\t<li>34765.7815633904</li>\n",
       "\t<li>37717.9050034299</li>\n",
       "\t<li>39341.2311844882</li>\n",
       "\t<li>38774.1120151673</li>\n",
       "\t<li>52631.9866200596</li>\n",
       "\t<li>37717.9050034299</li>\n",
       "\t<li>39341.2311844882</li>\n",
       "\t<li>38774.1120151673</li>\n",
       "\t<li>39341.2311844882</li>\n",
       "\t<li>34574.0636801798</li>\n",
       "\t<li>52631.9866200596</li>\n",
       "\t<li>34765.7815633904</li>\n",
       "\t<li>30571.6086820814</li>\n",
       "\t<li>57691.6532223304</li>\n",
       "\t<li>39825.4481656612</li>\n",
       "\t<li>42777.5716057007</li>\n",
       "\t<li>44400.897786759</li>\n",
       "\t<li>48541.5314327897</li>\n",
       "\t<li>44400.897786759</li>\n",
       "\t<li>52758.5349935426</li>\n",
       "\t<li>35648.2305101177</li>\n",
       "\t<li>40795.8973015599</li>\n",
       "\t<li>38792.0718333677</li>\n",
       "\t<li>53325.6541628636</li>\n",
       "\t<li>39848.2788451051</li>\n",
       "\t<li>35648.2305101177</li>\n",
       "\t<li>35839.9483933282</li>\n",
       "\t<li>53706.1534499975</li>\n",
       "\t<li>38142.5559057143</li>\n",
       "\t<li>41094.6793457538</li>\n",
       "\t<li>42718.0055268122</li>\n",
       "\t<li>37950.8380225038</li>\n",
       "\t<li>56008.7609623836</li>\n",
       "\t<li>38142.5559057143</li>\n",
       "\t<li>37950.8380225038</li>\n",
       "\t<li>38142.5559057143</li>\n",
       "\t<li>42718.0055268122</li>\n",
       "\t<li>42150.8863574912</li>\n",
       "\t<li>46858.6391728428</li>\n",
       "\t<li>41094.6793457538</li>\n",
       "\t<li>39390.7839093848</li>\n",
       "\t<li>35190.7355743974</li>\n",
       "\t<li>40338.4023658397</li>\n",
       "\t<li>35382.4534576079</li>\n",
       "\t<li>38334.5768976474</li>\n",
       "\t<li>39390.7839093848</li>\n",
       "\t<li>38334.5768976474</li>\n",
       "\t<li>39957.9030787058</li>\n",
       "\t<li>39390.7839093848</li>\n",
       "\t<li>40721.4744541159</li>\n",
       "\t<li>35765.5255458841</li>\n",
       "</ol>\n"
      ],
      "text/latex": [
       "\\begin{enumerate*}\n",
       "\\item 41906.3425018269\n",
       "\\item 32756.2207122861\n",
       "\\item 39902.5170336347\n",
       "\\item 41525.843214693\n",
       "\\item 40958.7240453721\n",
       "\\item 41906.3425018269\n",
       "\\item 36950.3935935951\n",
       "\\item 39902.5170336347\n",
       "\\item 54436.0993631305\n",
       "\\item 34574.0636801798\n",
       "\\item 34765.7815633904\n",
       "\\item 37717.9050034299\n",
       "\\item 39341.2311844882\n",
       "\\item 38774.1120151673\n",
       "\\item 52631.9866200596\n",
       "\\item 37717.9050034299\n",
       "\\item 39341.2311844882\n",
       "\\item 38774.1120151673\n",
       "\\item 39341.2311844882\n",
       "\\item 34574.0636801798\n",
       "\\item 52631.9866200596\n",
       "\\item 34765.7815633904\n",
       "\\item 30571.6086820814\n",
       "\\item 57691.6532223304\n",
       "\\item 39825.4481656612\n",
       "\\item 42777.5716057007\n",
       "\\item 44400.897786759\n",
       "\\item 48541.5314327897\n",
       "\\item 44400.897786759\n",
       "\\item 52758.5349935426\n",
       "\\item 35648.2305101177\n",
       "\\item 40795.8973015599\n",
       "\\item 38792.0718333677\n",
       "\\item 53325.6541628636\n",
       "\\item 39848.2788451051\n",
       "\\item 35648.2305101177\n",
       "\\item 35839.9483933282\n",
       "\\item 53706.1534499975\n",
       "\\item 38142.5559057143\n",
       "\\item 41094.6793457538\n",
       "\\item 42718.0055268122\n",
       "\\item 37950.8380225038\n",
       "\\item 56008.7609623836\n",
       "\\item 38142.5559057143\n",
       "\\item 37950.8380225038\n",
       "\\item 38142.5559057143\n",
       "\\item 42718.0055268122\n",
       "\\item 42150.8863574912\n",
       "\\item 46858.6391728428\n",
       "\\item 41094.6793457538\n",
       "\\item 39390.7839093848\n",
       "\\item 35190.7355743974\n",
       "\\item 40338.4023658397\n",
       "\\item 35382.4534576079\n",
       "\\item 38334.5768976474\n",
       "\\item 39390.7839093848\n",
       "\\item 38334.5768976474\n",
       "\\item 39957.9030787058\n",
       "\\item 39390.7839093848\n",
       "\\item 40721.4744541159\n",
       "\\item 35765.5255458841\n",
       "\\end{enumerate*}\n"
      ],
      "text/markdown": [
       "1. 41906.3425018269\n",
       "2. 32756.2207122861\n",
       "3. 39902.5170336347\n",
       "4. 41525.843214693\n",
       "5. 40958.7240453721\n",
       "6. 41906.3425018269\n",
       "7. 36950.3935935951\n",
       "8. 39902.5170336347\n",
       "9. 54436.0993631305\n",
       "10. 34574.0636801798\n",
       "11. 34765.7815633904\n",
       "12. 37717.9050034299\n",
       "13. 39341.2311844882\n",
       "14. 38774.1120151673\n",
       "15. 52631.9866200596\n",
       "16. 37717.9050034299\n",
       "17. 39341.2311844882\n",
       "18. 38774.1120151673\n",
       "19. 39341.2311844882\n",
       "20. 34574.0636801798\n",
       "21. 52631.9866200596\n",
       "22. 34765.7815633904\n",
       "23. 30571.6086820814\n",
       "24. 57691.6532223304\n",
       "25. 39825.4481656612\n",
       "26. 42777.5716057007\n",
       "27. 44400.897786759\n",
       "28. 48541.5314327897\n",
       "29. 44400.897786759\n",
       "30. 52758.5349935426\n",
       "31. 35648.2305101177\n",
       "32. 40795.8973015599\n",
       "33. 38792.0718333677\n",
       "34. 53325.6541628636\n",
       "35. 39848.2788451051\n",
       "36. 35648.2305101177\n",
       "37. 35839.9483933282\n",
       "38. 53706.1534499975\n",
       "39. 38142.5559057143\n",
       "40. 41094.6793457538\n",
       "41. 42718.0055268122\n",
       "42. 37950.8380225038\n",
       "43. 56008.7609623836\n",
       "44. 38142.5559057143\n",
       "45. 37950.8380225038\n",
       "46. 38142.5559057143\n",
       "47. 42718.0055268122\n",
       "48. 42150.8863574912\n",
       "49. 46858.6391728428\n",
       "50. 41094.6793457538\n",
       "51. 39390.7839093848\n",
       "52. 35190.7355743974\n",
       "53. 40338.4023658397\n",
       "54. 35382.4534576079\n",
       "55. 38334.5768976474\n",
       "56. 39390.7839093848\n",
       "57. 38334.5768976474\n",
       "58. 39957.9030787058\n",
       "59. 39390.7839093848\n",
       "60. 40721.4744541159\n",
       "61. 35765.5255458841\n",
       "\n",
       "\n"
      ],
      "text/plain": [
       " [1] 41906.34 32756.22 39902.52 41525.84 40958.72 41906.34 36950.39 39902.52\n",
       " [9] 54436.10 34574.06 34765.78 37717.91 39341.23 38774.11 52631.99 37717.91\n",
       "[17] 39341.23 38774.11 39341.23 34574.06 52631.99 34765.78 30571.61 57691.65\n",
       "[25] 39825.45 42777.57 44400.90 48541.53 44400.90 52758.53 35648.23 40795.90\n",
       "[33] 38792.07 53325.65 39848.28 35648.23 35839.95 53706.15 38142.56 41094.68\n",
       "[41] 42718.01 37950.84 56008.76 38142.56 37950.84 38142.56 42718.01 42150.89\n",
       "[49] 46858.64 41094.68 39390.78 35190.74 40338.40 35382.45 38334.58 39390.78\n",
       "[57] 38334.58 39957.90 39390.78 40721.47 35765.53"
      ]
     },
     "metadata": {},
     "output_type": "display_data"
    }
   ],
   "source": [
    "# predicting from training data set\n",
    "train$predict_attend <- predict(mlm.fit.train2)\n",
    "train$predict_attend"
   ]
  },
  {
   "cell_type": "code",
   "execution_count": 62,
   "metadata": {},
   "outputs": [],
   "source": [
    "\n",
    "# predicting from test data set\n",
    "test$predict_attend <- predict(mlm.fit.train2, newdata = test)"
   ]
  },
  {
   "cell_type": "code",
   "execution_count": 63,
   "metadata": {},
   "outputs": [],
   "source": [
    "test$error = test$predict_attend - test$attend"
   ]
  },
  {
   "cell_type": "code",
   "execution_count": 64,
   "metadata": {},
   "outputs": [
    {
     "data": {
      "text/html": [
       "<table>\n",
       "<thead><tr><th></th><th scope=col>month</th><th scope=col>day</th><th scope=col>attend</th><th scope=col>day_of_week</th><th scope=col>opponent</th><th scope=col>temp</th><th scope=col>skies</th><th scope=col>day_night</th><th scope=col>cap</th><th scope=col>shirt</th><th scope=col>fireworks</th><th scope=col>bobblehead</th><th scope=col>predict_attend</th><th scope=col>error</th></tr></thead>\n",
       "<tbody>\n",
       "\t<tr><th scope=row>2</th><td>APR          </td><td>11           </td><td>29729        </td><td>Wednesday    </td><td>Pirates      </td><td>58           </td><td>Cloudy       </td><td>Night        </td><td>NO           </td><td>NO           </td><td>NO           </td><td>NO           </td><td>36950.39     </td><td>  7221.393594</td></tr>\n",
       "\t<tr><th scope=row>7</th><td>APR          </td><td>23           </td><td>26376        </td><td>Monday       </td><td>Braves       </td><td>60           </td><td>Cloudy       </td><td>Night        </td><td>NO           </td><td>NO           </td><td>NO           </td><td>NO           </td><td>36758.68     </td><td> 10382.675710</td></tr>\n",
       "\t<tr><th scope=row>12</th><td>APR          </td><td>29           </td><td>48753        </td><td>Sunday       </td><td>Nationals    </td><td>74           </td><td>Clear        </td><td>Day          </td><td>NO           </td><td>YES          </td><td>NO           </td><td>NO           </td><td>40958.72     </td><td> -7794.275955</td></tr>\n",
       "\t<tr><th scope=row>14</th><td>MAY          </td><td> 8           </td><td>32799        </td><td>Tuesday      </td><td>Giants       </td><td>75           </td><td>Clear        </td><td>Night        </td><td>NO           </td><td>NO           </td><td>NO           </td><td>NO           </td><td>39721.73     </td><td>  6922.730472</td></tr>\n",
       "\t<tr><th scope=row>19</th><td>MAY          </td><td>14           </td><td>24312        </td><td>Monday       </td><td>Snakes       </td><td>67           </td><td>Clear        </td><td>Night        </td><td>NO           </td><td>NO           </td><td>NO           </td><td>NO           </td><td>34574.06     </td><td> 10262.063680</td></tr>\n",
       "\t<tr><th scope=row>24</th><td>MAY          </td><td>25           </td><td>36283        </td><td>Friday       </td><td>Astros       </td><td>59           </td><td>Cloudy       </td><td>Night        </td><td>NO           </td><td>NO           </td><td>YES          </td><td>NO           </td><td>37717.91     </td><td>  1434.905003</td></tr>\n",
       "\t<tr><th scope=row>26</th><td>MAY          </td><td>27           </td><td>33306        </td><td>Sunday       </td><td>Astros       </td><td>70           </td><td>Clear        </td><td>Day          </td><td>NO           </td><td>NO           </td><td>NO           </td><td>NO           </td><td>38774.11     </td><td>  5468.112015</td></tr>\n",
       "\t<tr><th scope=row>31</th><td>JUN          </td><td>11           </td><td>50559        </td><td>Monday       </td><td>Angels       </td><td>68           </td><td>Clear        </td><td>Night        </td><td>NO           </td><td>YES          </td><td>NO           </td><td>NO           </td><td>39633.73     </td><td>-10925.269718</td></tr>\n",
       "\t<tr><th scope=row>36</th><td>JUN          </td><td>17           </td><td>53504        </td><td>Sunday       </td><td>White Sox    </td><td>74           </td><td>Clear        </td><td>Day          </td><td>NO           </td><td>NO           </td><td>NO           </td><td>NO           </td><td>43833.78     </td><td> -9670.221383</td></tr>\n",
       "\t<tr><th scope=row>38</th><td>JUN          </td><td>29           </td><td>49763        </td><td>Friday       </td><td>Mets         </td><td>72           </td><td>Clear        </td><td>Night        </td><td>NO           </td><td>NO           </td><td>YES          </td><td>NO           </td><td>42777.57     </td><td> -6985.428394</td></tr>\n",
       "\t<tr><th scope=row>43</th><td>JUL          </td><td> 4           </td><td>53570        </td><td>Wednesday    </td><td>Reds         </td><td>70           </td><td>Clear        </td><td>Night        </td><td>NO           </td><td>NO           </td><td>YES          </td><td>NO           </td><td>35839.95     </td><td>-17730.051607</td></tr>\n",
       "\t<tr><th scope=row>48</th><td>JUL          </td><td>17           </td><td>53498        </td><td>Tuesday      </td><td>Phillies     </td><td>70           </td><td>Clear        </td><td>Night        </td><td>NO           </td><td>NO           </td><td>NO           </td><td>NO           </td><td>40795.90     </td><td>-12702.102698</td></tr>\n",
       "\t<tr><th scope=row>50</th><td>JUL          </td><td>30           </td><td>33180        </td><td>Monday       </td><td>Snakes       </td><td>73           </td><td>Clear        </td><td>Night        </td><td>NO           </td><td>NO           </td><td>NO           </td><td>NO           </td><td>35648.23     </td><td>  2468.230510</td></tr>\n",
       "\t<tr><th scope=row>55</th><td>AUG          </td><td> 5           </td><td>42495        </td><td>Sunday       </td><td>Cubs         </td><td>83           </td><td>Clear        </td><td>Day          </td><td>YES          </td><td>NO           </td><td>NO           </td><td>NO           </td><td>42150.89     </td><td>  -344.113643</td></tr>\n",
       "\t<tr><th scope=row>60</th><td>AUG          </td><td>21           </td><td>56000        </td><td>Tuesday      </td><td>Giants       </td><td>75           </td><td>Clear        </td><td>Night        </td><td>NO           </td><td>NO           </td><td>NO           </td><td>YES          </td><td>56008.76     </td><td>     8.760962</td></tr>\n",
       "\t<tr><th scope=row>62</th><td>AUG          </td><td>24           </td><td>39805        </td><td>Friday       </td><td>Marlins      </td><td>71           </td><td>Clear        </td><td>Night        </td><td>NO           </td><td>NO           </td><td>YES          </td><td>NO           </td><td>41094.68     </td><td>  1289.679346</td></tr>\n",
       "\t<tr><th scope=row>67</th><td>SEP          </td><td> 1           </td><td>35992        </td><td>Saturday     </td><td>Snakes       </td><td>81           </td><td>Clear        </td><td>Night        </td><td>NO           </td><td>NO           </td><td>NO           </td><td>NO           </td><td>39957.90     </td><td>  3965.903079</td></tr>\n",
       "\t<tr><th scope=row>72</th><td>SEP          </td><td>13           </td><td>43309        </td><td>Thursday     </td><td>Cardinals    </td><td>80           </td><td>Clear        </td><td>Night        </td><td>NO           </td><td>NO           </td><td>NO           </td><td>NO           </td><td>31188.28     </td><td>-12120.719424</td></tr>\n",
       "\t<tr><th scope=row>74</th><td>SEP          </td><td>15           </td><td>42449        </td><td>Saturday     </td><td>Cardinals    </td><td>95           </td><td>Clear        </td><td>Night        </td><td>NO           </td><td>NO           </td><td>NO           </td><td>NO           </td><td>39957.90     </td><td> -2491.096921</td></tr>\n",
       "\t<tr><th scope=row>79</th><td>OCT          </td><td> 1           </td><td>33624        </td><td>Monday       </td><td>Giants       </td><td>86           </td><td>Clear        </td><td>Night        </td><td>NO           </td><td>NO           </td><td>NO           </td><td>NO           </td><td>35573.81     </td><td>  1949.807663</td></tr>\n",
       "</tbody>\n",
       "</table>\n"
      ],
      "text/latex": [
       "\\begin{tabular}{r|llllllllllllll}\n",
       "  & month & day & attend & day\\_of\\_week & opponent & temp & skies & day\\_night & cap & shirt & fireworks & bobblehead & predict\\_attend & error\\\\\n",
       "\\hline\n",
       "\t2 & APR           & 11            & 29729         & Wednesday     & Pirates       & 58            & Cloudy        & Night         & NO            & NO            & NO            & NO            & 36950.39      &   7221.393594\\\\\n",
       "\t7 & APR           & 23            & 26376         & Monday        & Braves        & 60            & Cloudy        & Night         & NO            & NO            & NO            & NO            & 36758.68      &  10382.675710\\\\\n",
       "\t12 & APR           & 29            & 48753         & Sunday        & Nationals     & 74            & Clear         & Day           & NO            & YES           & NO            & NO            & 40958.72      &  -7794.275955\\\\\n",
       "\t14 & MAY           &  8            & 32799         & Tuesday       & Giants        & 75            & Clear         & Night         & NO            & NO            & NO            & NO            & 39721.73      &   6922.730472\\\\\n",
       "\t19 & MAY           & 14            & 24312         & Monday        & Snakes        & 67            & Clear         & Night         & NO            & NO            & NO            & NO            & 34574.06      &  10262.063680\\\\\n",
       "\t24 & MAY           & 25            & 36283         & Friday        & Astros        & 59            & Cloudy        & Night         & NO            & NO            & YES           & NO            & 37717.91      &   1434.905003\\\\\n",
       "\t26 & MAY           & 27            & 33306         & Sunday        & Astros        & 70            & Clear         & Day           & NO            & NO            & NO            & NO            & 38774.11      &   5468.112015\\\\\n",
       "\t31 & JUN           & 11            & 50559         & Monday        & Angels        & 68            & Clear         & Night         & NO            & YES           & NO            & NO            & 39633.73      & -10925.269718\\\\\n",
       "\t36 & JUN           & 17            & 53504         & Sunday        & White Sox     & 74            & Clear         & Day           & NO            & NO            & NO            & NO            & 43833.78      &  -9670.221383\\\\\n",
       "\t38 & JUN           & 29            & 49763         & Friday        & Mets          & 72            & Clear         & Night         & NO            & NO            & YES           & NO            & 42777.57      &  -6985.428394\\\\\n",
       "\t43 & JUL           &  4            & 53570         & Wednesday     & Reds          & 70            & Clear         & Night         & NO            & NO            & YES           & NO            & 35839.95      & -17730.051607\\\\\n",
       "\t48 & JUL           & 17            & 53498         & Tuesday       & Phillies      & 70            & Clear         & Night         & NO            & NO            & NO            & NO            & 40795.90      & -12702.102698\\\\\n",
       "\t50 & JUL           & 30            & 33180         & Monday        & Snakes        & 73            & Clear         & Night         & NO            & NO            & NO            & NO            & 35648.23      &   2468.230510\\\\\n",
       "\t55 & AUG           &  5            & 42495         & Sunday        & Cubs          & 83            & Clear         & Day           & YES           & NO            & NO            & NO            & 42150.89      &   -344.113643\\\\\n",
       "\t60 & AUG           & 21            & 56000         & Tuesday       & Giants        & 75            & Clear         & Night         & NO            & NO            & NO            & YES           & 56008.76      &      8.760962\\\\\n",
       "\t62 & AUG           & 24            & 39805         & Friday        & Marlins       & 71            & Clear         & Night         & NO            & NO            & YES           & NO            & 41094.68      &   1289.679346\\\\\n",
       "\t67 & SEP           &  1            & 35992         & Saturday      & Snakes        & 81            & Clear         & Night         & NO            & NO            & NO            & NO            & 39957.90      &   3965.903079\\\\\n",
       "\t72 & SEP           & 13            & 43309         & Thursday      & Cardinals     & 80            & Clear         & Night         & NO            & NO            & NO            & NO            & 31188.28      & -12120.719424\\\\\n",
       "\t74 & SEP           & 15            & 42449         & Saturday      & Cardinals     & 95            & Clear         & Night         & NO            & NO            & NO            & NO            & 39957.90      &  -2491.096921\\\\\n",
       "\t79 & OCT           &  1            & 33624         & Monday        & Giants        & 86            & Clear         & Night         & NO            & NO            & NO            & NO            & 35573.81      &   1949.807663\\\\\n",
       "\\end{tabular}\n"
      ],
      "text/markdown": [
       "\n",
       "| <!--/--> | month | day | attend | day_of_week | opponent | temp | skies | day_night | cap | shirt | fireworks | bobblehead | predict_attend | error |\n",
       "|---|---|---|---|---|---|---|---|---|---|---|---|---|---|---|\n",
       "| 2 | APR           | 11            | 29729         | Wednesday     | Pirates       | 58            | Cloudy        | Night         | NO            | NO            | NO            | NO            | 36950.39      |   7221.393594 |\n",
       "| 7 | APR           | 23            | 26376         | Monday        | Braves        | 60            | Cloudy        | Night         | NO            | NO            | NO            | NO            | 36758.68      |  10382.675710 |\n",
       "| 12 | APR           | 29            | 48753         | Sunday        | Nationals     | 74            | Clear         | Day           | NO            | YES           | NO            | NO            | 40958.72      |  -7794.275955 |\n",
       "| 14 | MAY           |  8            | 32799         | Tuesday       | Giants        | 75            | Clear         | Night         | NO            | NO            | NO            | NO            | 39721.73      |   6922.730472 |\n",
       "| 19 | MAY           | 14            | 24312         | Monday        | Snakes        | 67            | Clear         | Night         | NO            | NO            | NO            | NO            | 34574.06      |  10262.063680 |\n",
       "| 24 | MAY           | 25            | 36283         | Friday        | Astros        | 59            | Cloudy        | Night         | NO            | NO            | YES           | NO            | 37717.91      |   1434.905003 |\n",
       "| 26 | MAY           | 27            | 33306         | Sunday        | Astros        | 70            | Clear         | Day           | NO            | NO            | NO            | NO            | 38774.11      |   5468.112015 |\n",
       "| 31 | JUN           | 11            | 50559         | Monday        | Angels        | 68            | Clear         | Night         | NO            | YES           | NO            | NO            | 39633.73      | -10925.269718 |\n",
       "| 36 | JUN           | 17            | 53504         | Sunday        | White Sox     | 74            | Clear         | Day           | NO            | NO            | NO            | NO            | 43833.78      |  -9670.221383 |\n",
       "| 38 | JUN           | 29            | 49763         | Friday        | Mets          | 72            | Clear         | Night         | NO            | NO            | YES           | NO            | 42777.57      |  -6985.428394 |\n",
       "| 43 | JUL           |  4            | 53570         | Wednesday     | Reds          | 70            | Clear         | Night         | NO            | NO            | YES           | NO            | 35839.95      | -17730.051607 |\n",
       "| 48 | JUL           | 17            | 53498         | Tuesday       | Phillies      | 70            | Clear         | Night         | NO            | NO            | NO            | NO            | 40795.90      | -12702.102698 |\n",
       "| 50 | JUL           | 30            | 33180         | Monday        | Snakes        | 73            | Clear         | Night         | NO            | NO            | NO            | NO            | 35648.23      |   2468.230510 |\n",
       "| 55 | AUG           |  5            | 42495         | Sunday        | Cubs          | 83            | Clear         | Day           | YES           | NO            | NO            | NO            | 42150.89      |   -344.113643 |\n",
       "| 60 | AUG           | 21            | 56000         | Tuesday       | Giants        | 75            | Clear         | Night         | NO            | NO            | NO            | YES           | 56008.76      |      8.760962 |\n",
       "| 62 | AUG           | 24            | 39805         | Friday        | Marlins       | 71            | Clear         | Night         | NO            | NO            | YES           | NO            | 41094.68      |   1289.679346 |\n",
       "| 67 | SEP           |  1            | 35992         | Saturday      | Snakes        | 81            | Clear         | Night         | NO            | NO            | NO            | NO            | 39957.90      |   3965.903079 |\n",
       "| 72 | SEP           | 13            | 43309         | Thursday      | Cardinals     | 80            | Clear         | Night         | NO            | NO            | NO            | NO            | 31188.28      | -12120.719424 |\n",
       "| 74 | SEP           | 15            | 42449         | Saturday      | Cardinals     | 95            | Clear         | Night         | NO            | NO            | NO            | NO            | 39957.90      |  -2491.096921 |\n",
       "| 79 | OCT           |  1            | 33624         | Monday        | Giants        | 86            | Clear         | Night         | NO            | NO            | NO            | NO            | 35573.81      |   1949.807663 |\n",
       "\n"
      ],
      "text/plain": [
       "   month day attend day_of_week opponent  temp skies  day_night cap shirt\n",
       "2  APR   11  29729  Wednesday   Pirates   58   Cloudy Night     NO  NO   \n",
       "7  APR   23  26376  Monday      Braves    60   Cloudy Night     NO  NO   \n",
       "12 APR   29  48753  Sunday      Nationals 74   Clear  Day       NO  YES  \n",
       "14 MAY    8  32799  Tuesday     Giants    75   Clear  Night     NO  NO   \n",
       "19 MAY   14  24312  Monday      Snakes    67   Clear  Night     NO  NO   \n",
       "24 MAY   25  36283  Friday      Astros    59   Cloudy Night     NO  NO   \n",
       "26 MAY   27  33306  Sunday      Astros    70   Clear  Day       NO  NO   \n",
       "31 JUN   11  50559  Monday      Angels    68   Clear  Night     NO  YES  \n",
       "36 JUN   17  53504  Sunday      White Sox 74   Clear  Day       NO  NO   \n",
       "38 JUN   29  49763  Friday      Mets      72   Clear  Night     NO  NO   \n",
       "43 JUL    4  53570  Wednesday   Reds      70   Clear  Night     NO  NO   \n",
       "48 JUL   17  53498  Tuesday     Phillies  70   Clear  Night     NO  NO   \n",
       "50 JUL   30  33180  Monday      Snakes    73   Clear  Night     NO  NO   \n",
       "55 AUG    5  42495  Sunday      Cubs      83   Clear  Day       YES NO   \n",
       "60 AUG   21  56000  Tuesday     Giants    75   Clear  Night     NO  NO   \n",
       "62 AUG   24  39805  Friday      Marlins   71   Clear  Night     NO  NO   \n",
       "67 SEP    1  35992  Saturday    Snakes    81   Clear  Night     NO  NO   \n",
       "72 SEP   13  43309  Thursday    Cardinals 80   Clear  Night     NO  NO   \n",
       "74 SEP   15  42449  Saturday    Cardinals 95   Clear  Night     NO  NO   \n",
       "79 OCT    1  33624  Monday      Giants    86   Clear  Night     NO  NO   \n",
       "   fireworks bobblehead predict_attend error        \n",
       "2  NO        NO         36950.39         7221.393594\n",
       "7  NO        NO         36758.68        10382.675710\n",
       "12 NO        NO         40958.72        -7794.275955\n",
       "14 NO        NO         39721.73         6922.730472\n",
       "19 NO        NO         34574.06        10262.063680\n",
       "24 YES       NO         37717.91         1434.905003\n",
       "26 NO        NO         38774.11         5468.112015\n",
       "31 NO        NO         39633.73       -10925.269718\n",
       "36 NO        NO         43833.78        -9670.221383\n",
       "38 YES       NO         42777.57        -6985.428394\n",
       "43 YES       NO         35839.95       -17730.051607\n",
       "48 NO        NO         40795.90       -12702.102698\n",
       "50 NO        NO         35648.23         2468.230510\n",
       "55 NO        NO         42150.89         -344.113643\n",
       "60 NO        YES        56008.76            8.760962\n",
       "62 YES       NO         41094.68         1289.679346\n",
       "67 NO        NO         39957.90         3965.903079\n",
       "72 NO        NO         31188.28       -12120.719424\n",
       "74 NO        NO         39957.90        -2491.096921\n",
       "79 NO        NO         35573.81         1949.807663"
      ]
     },
     "metadata": {},
     "output_type": "display_data"
    }
   ],
   "source": [
    "test"
   ]
  },
  {
   "cell_type": "code",
   "execution_count": 65,
   "metadata": {},
   "outputs": [
    {
     "name": "stderr",
     "output_type": "stream",
     "text": [
      "`geom_smooth()` using method = 'loess' and formula 'y ~ x'\n"
     ]
    },
    {
     "data": {
      "image/png": "[encoded data removed]",
      "text/plain": [
       "plot without title"
      ]
     },
     "metadata": {},
     "output_type": "display_data"
    }
   ],
   "source": [
    "ggplot(data=test, aes(x=predict_attend, y=error)) + geom_point()+\n",
    "  theme_bw() +\n",
    "  geom_smooth(aes(x=predict_attend, y=error)) +#method=lm, se=FALSE) +\n",
    "  labs(title = \"Scatter plot between Attendence and Error from prediction\", x = \"Attendance\", y = \"Error\")"
   ]
  },
  {
   "cell_type": "code",
   "execution_count": null,
   "metadata": {},
   "outputs": [],
   "source": []
  },
  {
   "cell_type": "code",
   "execution_count": 66,
   "metadata": {},
   "outputs": [],
   "source": [
    "# predicting from test data set using Model1 (model1 = {attend ~ day_of_week  + bobblehead })\n",
    "test$predict_attend1 <- predict(mlm.fit.train1, newdata = test)\n",
    "test$error1 = test$predict_attend1 - test$attend"
   ]
  },
  {
   "cell_type": "code",
   "execution_count": 67,
   "metadata": {},
   "outputs": [
    {
     "name": "stderr",
     "output_type": "stream",
     "text": [
      "`geom_smooth()` using method = 'loess' and formula 'y ~ x'\n"
     ]
    },
    {
     "data": {
      "image/png": "[encoded data removed]",
      "text/plain": [
       "plot without title"
      ]
     },
     "metadata": {},
     "output_type": "display_data"
    }
   ],
   "source": [
    "ggplot(data=test, aes(x=predict_attend1, y=error1)) + geom_point()+\n",
    "  theme_bw() +\n",
    "  geom_smooth(aes(x=predict_attend1, y=error1)) +#method=lm, se=FALSE) +\n",
    "  labs(title = \"Scatter plot between Attendence and Error from prediction (using model1)\", x = \"Attendance\", y = \"Error\")"
   ]
  },
  {
   "cell_type": "code",
   "execution_count": null,
   "metadata": {},
   "outputs": [],
   "source": []
  }
 ],
 "metadata": {
  "celltoolbar": "Raw Cell Format",
  "kernelspec": {
   "display_name": "R",
   "language": "R",
   "name": "ir"
  },
  "language_info": {
   "codemirror_mode": "r",
   "file_extension": ".r",
   "mimetype": "text/x-r-source",
   "name": "R",
   "pygments_lexer": "r",
   "version": "3.6.0"
  }
 },
 "nbformat": 4,
 "nbformat_minor": 2
}
